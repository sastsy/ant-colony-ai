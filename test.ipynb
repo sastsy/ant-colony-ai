{
 "cells": [
  {
   "cell_type": "code",
   "execution_count": 1,
   "metadata": {},
   "outputs": [],
   "source": [
    "a = {1, 2, 3}"
   ]
  },
  {
   "cell_type": "code",
   "execution_count": 5,
   "metadata": {},
   "outputs": [
    {
     "name": "stdout",
     "output_type": "stream",
     "text": [
      "[2]\n"
     ]
    },
    {
     "ename": "NetworkXError",
     "evalue": "The node 0 is not in the digraph.",
     "output_type": "error",
     "traceback": [
      "\u001b[0;31m---------------------------------------------------------------------------\u001b[0m",
      "\u001b[0;31mKeyError\u001b[0m                                  Traceback (most recent call last)",
      "File \u001b[0;32m~/anaconda3/lib/python3.11/site-packages/networkx/classes/digraph.py:899\u001b[0m, in \u001b[0;36mDiGraph.successors\u001b[0;34m(self, n)\u001b[0m\n\u001b[1;32m    898\u001b[0m \u001b[38;5;28;01mtry\u001b[39;00m:\n\u001b[0;32m--> 899\u001b[0m     \u001b[38;5;28;01mreturn\u001b[39;00m \u001b[38;5;28miter\u001b[39m(\u001b[38;5;28;43mself\u001b[39;49m\u001b[38;5;241;43m.\u001b[39;49m\u001b[43m_succ\u001b[49m\u001b[43m[\u001b[49m\u001b[43mn\u001b[49m\u001b[43m]\u001b[49m)\n\u001b[1;32m    900\u001b[0m \u001b[38;5;28;01mexcept\u001b[39;00m \u001b[38;5;167;01mKeyError\u001b[39;00m \u001b[38;5;28;01mas\u001b[39;00m err:\n",
      "\u001b[0;31mKeyError\u001b[0m: 0",
      "\nThe above exception was the direct cause of the following exception:\n",
      "\u001b[0;31mNetworkXError\u001b[0m                             Traceback (most recent call last)",
      "Cell \u001b[0;32mIn[5], line 94\u001b[0m\n\u001b[1;32m     81\u001b[0m edges \u001b[38;5;241m=\u001b[39m [\n\u001b[1;32m     82\u001b[0m     (\u001b[38;5;241m1\u001b[39m, \u001b[38;5;241m2\u001b[39m, {\u001b[38;5;124m'\u001b[39m\u001b[38;5;124mweight\u001b[39m\u001b[38;5;124m'\u001b[39m: \u001b[38;5;241m10\u001b[39m}),\n\u001b[1;32m     83\u001b[0m     (\u001b[38;5;241m1\u001b[39m, \u001b[38;5;241m3\u001b[39m, {\u001b[38;5;124m'\u001b[39m\u001b[38;5;124mweight\u001b[39m\u001b[38;5;124m'\u001b[39m: \u001b[38;5;241m20\u001b[39m}),\n\u001b[0;32m   (...)\u001b[0m\n\u001b[1;32m     89\u001b[0m     (\u001b[38;5;241m5\u001b[39m, \u001b[38;5;241m1\u001b[39m, {\u001b[38;5;124m'\u001b[39m\u001b[38;5;124mweight\u001b[39m\u001b[38;5;124m'\u001b[39m: \u001b[38;5;241m45\u001b[39m})\n\u001b[1;32m     90\u001b[0m ]\n\u001b[1;32m     92\u001b[0m graph\u001b[38;5;241m.\u001b[39madd_edges_from(edges)\n\u001b[0;32m---> 94\u001b[0m best_solution, best_cost \u001b[38;5;241m=\u001b[39m \u001b[43mant_colony_shortest_hamilton_cycle\u001b[49m\u001b[43m(\u001b[49m\u001b[43mgraph\u001b[49m\u001b[43m)\u001b[49m\n\u001b[1;32m     95\u001b[0m \u001b[38;5;28mprint\u001b[39m(\u001b[38;5;124m\"\u001b[39m\u001b[38;5;124mBest Hamiltonian cycle:\u001b[39m\u001b[38;5;124m\"\u001b[39m, best_solution)\n\u001b[1;32m     96\u001b[0m \u001b[38;5;28mprint\u001b[39m(\u001b[38;5;124m\"\u001b[39m\u001b[38;5;124mCost of the cycle:\u001b[39m\u001b[38;5;124m\"\u001b[39m, best_cost)\n",
      "Cell \u001b[0;32mIn[5], line 21\u001b[0m, in \u001b[0;36mant_colony_shortest_hamilton_cycle\u001b[0;34m(graph, num_ants, evaporation_rate, pheromone_deposit, alpha, beta, iterations)\u001b[0m\n\u001b[1;32m     18\u001b[0m visited\u001b[38;5;241m.\u001b[39madd(current_node)\n\u001b[1;32m     20\u001b[0m \u001b[38;5;28;01mfor\u001b[39;00m _ \u001b[38;5;129;01min\u001b[39;00m \u001b[38;5;28mrange\u001b[39m(num_nodes \u001b[38;5;241m-\u001b[39m \u001b[38;5;241m1\u001b[39m):\n\u001b[0;32m---> 21\u001b[0m     probabilities \u001b[38;5;241m=\u001b[39m \u001b[43mcalculate_probabilities\u001b[49m\u001b[43m(\u001b[49m\u001b[43mgraph\u001b[49m\u001b[43m,\u001b[49m\u001b[43m \u001b[49m\u001b[43mpheromone\u001b[49m\u001b[43m,\u001b[49m\u001b[43m \u001b[49m\u001b[43mcurrent_solution\u001b[49m\u001b[43m[\u001b[49m\u001b[38;5;241;43m-\u001b[39;49m\u001b[38;5;241;43m1\u001b[39;49m\u001b[43m]\u001b[49m\u001b[43m,\u001b[49m\u001b[43m \u001b[49m\u001b[43mvisited\u001b[49m\u001b[43m,\u001b[49m\u001b[43m \u001b[49m\u001b[43malpha\u001b[49m\u001b[43m,\u001b[49m\u001b[43m \u001b[49m\u001b[43mbeta\u001b[49m\u001b[43m)\u001b[49m\n\u001b[1;32m     22\u001b[0m     \u001b[38;5;28;01mif\u001b[39;00m probabilities:  \u001b[38;5;66;03m# Ensure there are nodes to select\u001b[39;00m\n\u001b[1;32m     23\u001b[0m         next_node \u001b[38;5;241m=\u001b[39m select_next_node(probabilities)\n",
      "Cell \u001b[0;32mIn[5], line 43\u001b[0m, in \u001b[0;36mcalculate_probabilities\u001b[0;34m(graph, pheromone, current_node, visited, alpha, beta)\u001b[0m\n\u001b[1;32m     40\u001b[0m probabilities \u001b[38;5;241m=\u001b[39m []\n\u001b[1;32m     41\u001b[0m total \u001b[38;5;241m=\u001b[39m \u001b[38;5;241m0\u001b[39m\n\u001b[0;32m---> 43\u001b[0m \u001b[38;5;28;01mfor\u001b[39;00m next_node \u001b[38;5;129;01min\u001b[39;00m \u001b[43mgraph\u001b[49m\u001b[38;5;241;43m.\u001b[39;49m\u001b[43msuccessors\u001b[49m\u001b[43m(\u001b[49m\u001b[43mcurrent_node\u001b[49m\u001b[43m)\u001b[49m:\n\u001b[1;32m     44\u001b[0m     \u001b[38;5;28;01mif\u001b[39;00m next_node \u001b[38;5;129;01mnot\u001b[39;00m \u001b[38;5;129;01min\u001b[39;00m visited:\n\u001b[1;32m     45\u001b[0m         pheromone_factor \u001b[38;5;241m=\u001b[39m pheromone[current_node][next_node] \u001b[38;5;241m*\u001b[39m\u001b[38;5;241m*\u001b[39m alpha\n",
      "File \u001b[0;32m~/anaconda3/lib/python3.11/site-packages/networkx/classes/digraph.py:901\u001b[0m, in \u001b[0;36mDiGraph.successors\u001b[0;34m(self, n)\u001b[0m\n\u001b[1;32m    899\u001b[0m     \u001b[38;5;28;01mreturn\u001b[39;00m \u001b[38;5;28miter\u001b[39m(\u001b[38;5;28mself\u001b[39m\u001b[38;5;241m.\u001b[39m_succ[n])\n\u001b[1;32m    900\u001b[0m \u001b[38;5;28;01mexcept\u001b[39;00m \u001b[38;5;167;01mKeyError\u001b[39;00m \u001b[38;5;28;01mas\u001b[39;00m err:\n\u001b[0;32m--> 901\u001b[0m     \u001b[38;5;28;01mraise\u001b[39;00m NetworkXError(\u001b[38;5;124mf\u001b[39m\u001b[38;5;124m\"\u001b[39m\u001b[38;5;124mThe node \u001b[39m\u001b[38;5;132;01m{\u001b[39;00mn\u001b[38;5;132;01m}\u001b[39;00m\u001b[38;5;124m is not in the digraph.\u001b[39m\u001b[38;5;124m\"\u001b[39m) \u001b[38;5;28;01mfrom\u001b[39;00m \u001b[38;5;21;01merr\u001b[39;00m\n",
      "\u001b[0;31mNetworkXError\u001b[0m: The node 0 is not in the digraph."
     ]
    }
   ],
   "source": [
    "import networkx as nx\n",
    "import random\n",
    "import math\n",
    "\n",
    "def ant_colony_shortest_hamilton_cycle(graph, num_ants=10, evaporation_rate=0.1, pheromone_deposit=1.0, alpha=1, beta=2, iterations=200):\n",
    "    num_nodes = len(graph.nodes())\n",
    "    pheromone = {node: {successor: 1 / (num_nodes * num_nodes) for successor in graph.successors(node)} for node in graph.nodes()}\n",
    "\n",
    "    best_solution = None\n",
    "    best_cost = float('inf')\n",
    "\n",
    "    for _ in range(iterations):\n",
    "        for ant in range(num_ants):\n",
    "            current_node = random.choice(list(graph.nodes()))\n",
    "            current_solution = [current_node]\n",
    "            print(current_solution)\n",
    "            visited = set()\n",
    "            visited.add(current_node)\n",
    "\n",
    "            for _ in range(num_nodes - 1):\n",
    "                probabilities = calculate_probabilities(graph, pheromone, current_solution[-1], visited, alpha, beta)\n",
    "                if probabilities:  # Ensure there are nodes to select\n",
    "                    next_node = select_next_node(probabilities)\n",
    "                    current_solution.append(next_node)\n",
    "                    visited.add(current_node)\n",
    "                else:\n",
    "                    break  # No more available nodes\n",
    "\n",
    "            current_cost = calculate_hamilton_cycle_cost(graph, current_solution)\n",
    "\n",
    "            if current_cost < best_cost:\n",
    "                best_solution = current_solution.copy()\n",
    "                best_cost = current_cost\n",
    "\n",
    "            update_pheromone(pheromone, current_solution, current_cost, evaporation_rate, pheromone_deposit)\n",
    "\n",
    "    return best_solution, best_cost\n",
    "\n",
    "def calculate_probabilities(graph, pheromone, current_node, visited, alpha, beta):\n",
    "    probabilities = []\n",
    "    total = 0\n",
    "\n",
    "    for next_node in graph.successors(current_node):\n",
    "        if next_node not in visited:\n",
    "            pheromone_factor = pheromone[current_node][next_node] ** alpha\n",
    "            distance_factor = 1 / (graph[current_node][next_node]['weight'] ** beta)\n",
    "            probabilities.append(pheromone_factor * distance_factor)\n",
    "            total += probabilities[-1]\n",
    "\n",
    "    probabilities = [prob / total for prob in probabilities] if total != 0 else []  # Ensure no division by zero\n",
    "\n",
    "    return probabilities\n",
    "\n",
    "def select_next_node(probabilities):\n",
    "    random_value = random.random()\n",
    "    cumulative_probability = 0\n",
    "\n",
    "    for i, prob in enumerate(probabilities):\n",
    "        cumulative_probability += prob\n",
    "        if random_value <= cumulative_probability:\n",
    "            return i\n",
    "\n",
    "def update_pheromone(pheromone, solution, cost, evaporation_rate, pheromone_deposit):\n",
    "    for i in range(len(solution)):\n",
    "        current_node = solution[i]\n",
    "        next_node = solution[(i + 1) % len(solution)]\n",
    "        pheromone[current_node][next_node] *= (1 - evaporation_rate)\n",
    "        pheromone[current_node][next_node] += pheromone_deposit / cost\n",
    "\n",
    "\n",
    "def calculate_hamilton_cycle_cost(graph, cycle):\n",
    "    cost = 0\n",
    "    for i in range(len(cycle)):\n",
    "        current_node = cycle[i]\n",
    "        next_node = cycle[(i + 1) % len(cycle)]\n",
    "        cost += graph[current_node][next_node]['weight']\n",
    "    return cost\n",
    "\n",
    "# Example of a directed graph\n",
    "graph = nx.DiGraph()\n",
    "edges = [\n",
    "    (1, 2, {'weight': 10}),\n",
    "    (1, 3, {'weight': 20}),\n",
    "    (2, 3, {'weight': 15}),\n",
    "    (2, 4, {'weight': 25}),\n",
    "    (3, 4, {'weight': 30}),\n",
    "    (3, 5, {'weight': 35}),\n",
    "    (4, 5, {'weight': 40}),\n",
    "    (5, 1, {'weight': 45})\n",
    "]\n",
    "\n",
    "graph.add_edges_from(edges)\n",
    "\n",
    "best_solution, best_cost = ant_colony_shortest_hamilton_cycle(graph)\n",
    "print(\"Best Hamiltonian cycle:\", best_solution)\n",
    "print(\"Cost of the cycle:\", best_cost)\n"
   ]
  },
  {
   "cell_type": "code",
   "execution_count": 6,
   "metadata": {},
   "outputs": [],
   "source": [
    "a = [1, 2, 3, 4, 5]"
   ]
  },
  {
   "cell_type": "code",
   "execution_count": 7,
   "metadata": {},
   "outputs": [
    {
     "name": "stdout",
     "output_type": "stream",
     "text": [
      "[1, 2, 3, 4, 5]\n",
      "[2, 3, 4, 5]\n",
      "[3, 4, 5]\n",
      "[4, 5]\n",
      "[5]\n"
     ]
    }
   ],
   "source": [
    "i = 1\n",
    "while a:\n",
    "    print(a)\n",
    "    a.remove(i)\n",
    "    i += 1"
   ]
  }
 ],
 "metadata": {
  "kernelspec": {
   "display_name": "base",
   "language": "python",
   "name": "python3"
  },
  "language_info": {
   "codemirror_mode": {
    "name": "ipython",
    "version": 3
   },
   "file_extension": ".py",
   "mimetype": "text/x-python",
   "name": "python",
   "nbconvert_exporter": "python",
   "pygments_lexer": "ipython3",
   "version": "3.11.8"
  }
 },
 "nbformat": 4,
 "nbformat_minor": 2
}
